{
 "cells": [
  {
   "cell_type": "markdown",
   "source": [
    "The architecture consists of a Conditional VAE which models distributions over entire lists of items (which we call *slates*), and is trained to minimize the _negative_ Evidence Lower BOund (ELBO):\n",
    "$$\\mathcal{L} = \\text{KL}\\left[Q_\\phi(\\mathbf{z}|\\mathbf{s}, \\mathbf{c}) || P_\\theta(\\mathbf{z} | \\mathbf{c})\\right] - \\mathbb{E}_{Q_\\phi (\\mathbf{z} |\\mathbf{s}, \\mathbf{c})} \\left[\\text{log } P_\\theta(\\mathbf{s} | \\mathbf{z} , \\mathbf{c})\\right]$$\n",
    "where $Q_\\phi(\\mathbf{z}|\\mathbf{s})$ is the encoder, $P_\\theta(\\mathbf{z} | \\mathbf{c})$ the (conditional) prior, and  $P_\\theta(\\mathbf{s} | \\mathbf{z}, \\mathbf{c})$ the decoder.\n",
    "Also, $\\mathbf{s} = \\{s_1, s_2, ..., s_K\\}$ represents the K-dimensional recommendation slate, $\\mathbf{z}$ is the latent variable, and $\\mathbf{c}$ is the conditioning variable consisting of a number of sources of information (e.g. slate diversity and user interaction history) projected into conditioning space.\n",
    "\n",
    "## Sample Usage\n",
    "Install dependencies:"
   ],
   "metadata": {
    "collapsed": false
   }
  },
  {
   "cell_type": "code",
   "execution_count": null,
   "outputs": [],
   "source": [
    "!pip install -r requirements.txt"
   ],
   "metadata": {
    "collapsed": false,
    "pycharm": {
     "name": "#%%\n"
    }
   }
  },
  {
   "cell_type": "markdown",
   "source": [
    "Assuming usage of the MovieLens 1M dataset, and that this has been unzipped at `data/ml/1m/original`, preprocess the dataset by running:"
   ],
   "metadata": {
    "collapsed": false,
    "pycharm": {
     "name": "#%% md\n"
    }
   }
  },
  {
   "cell_type": "code",
   "execution_count": null,
   "outputs": [],
   "source": [
    "!bash process_ml_1m.sh"
   ],
   "metadata": {
    "collapsed": false,
    "pycharm": {
     "name": "#%% \n"
    }
   }
  },
  {
   "cell_type": "markdown",
   "source": [
    "To train the model, use the `train_model.py` script with appropriate arguments:"
   ],
   "metadata": {
    "collapsed": false
   }
  },
  {
   "cell_type": "code",
   "execution_count": null,
   "outputs": [],
   "source": [
    "!python train_model.py --exp_name myExp --dataset ml --variation 1m --K 5 --diverse_model True --task val"
   ],
   "metadata": {
    "collapsed": false,
    "pycharm": {
     "name": "#%%\n"
    }
   }
  },
  {
   "cell_type": "markdown",
   "source": [
    "Specifying `--task test` performs evaluation of a pretrained model on the test targets.\n",
    "\n"
   ],
   "metadata": {
    "collapsed": false,
    "pycharm": {
     "name": "#%% md\n"
    }
   }
  }
 ],
 "metadata": {
  "kernelspec": {
   "display_name": "Python 3",
   "language": "python",
   "name": "python3"
  },
  "language_info": {
   "codemirror_mode": {
    "name": "ipython",
    "version": 2
   },
   "file_extension": ".py",
   "mimetype": "text/x-python",
   "name": "python",
   "nbconvert_exporter": "python",
   "pygments_lexer": "ipython2",
   "version": "2.7.6"
  }
 },
 "nbformat": 4,
 "nbformat_minor": 0
}